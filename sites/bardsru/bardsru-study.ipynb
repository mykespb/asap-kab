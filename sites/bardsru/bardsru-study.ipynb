{
 "cells": [
  {
   "cell_type": "markdown",
   "metadata": {},
   "source": [
    "# Изучение сайта www.bards.ru "
   ]
  },
  {
   "cell_type": "markdown",
   "metadata": {},
   "source": [
    "https://lecturesnet.readthedocs.io/net/web.scraping/lxml.html\n",
    "https://lxml.de/lxmlhtml.html\n",
    "https://lxml.de/parsing.html\n"
   ]
  },
  {
   "cell_type": "code",
   "execution_count": 1,
   "metadata": {},
   "outputs": [],
   "source": [
    "site_addr = 'http://www.bards.ru/'\n",
    "start_addr = 'http://bards.ru/archives/index.php'"
   ]
  },
  {
   "cell_type": "code",
   "execution_count": 4,
   "metadata": {},
   "outputs": [
    {
     "name": "stdout",
     "output_type": "stream",
     "text": [
      "['C0', 'C1', 'C2', 'C3', 'C4', 'C5', 'A8', 'C6', 'C7', 'C8', 'C9', 'CA', 'CB', 'CC', 'CD', 'CE', 'CF', 'D0', 'D1', 'D2', 'D3', 'D4', 'D5', 'D6', 'D7', 'D8', 'D9', 'Dd', 'De', 'DF']\n"
     ]
    }
   ],
   "source": [
    "sub_letters = \"C0,C1,C2,C3,C4,C5,A8,C6,C7,C8,C9,CA,CB,CC,CD,CE,CF,D0,D1,D2,D3,D4,D5,D6,D7,D8,D9,Dd,De,DF\".split(\",\")\n",
    "print (sub_letters)"
   ]
  },
  {
   "cell_type": "code",
   "execution_count": 5,
   "metadata": {},
   "outputs": [],
   "source": [
    "import re\n",
    "import requests\n",
    "from lxml import html"
   ]
  },
  {
   "cell_type": "code",
   "execution_count": 12,
   "metadata": {},
   "outputs": [],
   "source": [
    "gaddr = start_addr + '?ch=%C0'\n",
    "page = requests.get (gaddr)\n",
    "parsed = html.fromstring (page.text)"
   ]
  },
  {
   "cell_type": "code",
   "execution_count": 13,
   "metadata": {},
   "outputs": [
    {
     "name": "stdout",
     "output_type": "stream",
     "text": [
      "['/index.php', '/person.php?id=1871', '/index.php', '/dates.php', '/persons.php', '/collectives/index.php', '/concerts.php', '/festivals.php', '/archives/index.php', '/archives/alboms.php', '/press/index.php', '/photo_index.php', 'http://community.livejournal.com/bards_ru', '/guestbook.php', '/mortirolog.php', 'http://www.yandex.ru', 'index.php?ch=%C0', 'index.php?ch=%C1', 'index.php?ch=%C2', 'index.php?ch=%C3', 'index.php?ch=%C4', 'index.php?ch=%C5', 'index.php?ch=%A8', 'index.php?ch=%C6', 'index.php?ch=%C7', 'index.php?ch=%C8', 'index.php?ch=%CA', 'index.php?ch=%CB', 'index.php?ch=%CC', 'index.php?ch=%CD', 'index.php?ch=%CE', 'index.php?ch=%CF', 'index.php?ch=%D0', 'index.php?ch=%D1', 'index.php?ch=%D2', 'index.php?ch=%D3', 'index.php?ch=%D4', 'index.php?ch=%D5', 'index.php?ch=%D6', 'index.php?ch=%D7', 'index.php?ch=%D8', 'index.php?ch=%D9', 'index.php?ch=%DD', 'index.php?ch=%DE', 'index.php?ch=%DF', 'author.php?id=6581', 'author.php?id=7482', 'author.php?id=2142', 'author.php?id=2153', 'author.php?id=3744', 'author.php?id=2174', 'author.php?id=2660', 'author.php?id=8056', 'author.php?id=2143', 'author.php?id=3247', 'author.php?id=3009', 'author.php?id=3895', 'author.php?id=2145', 'author.php?id=3508', 'author.php?id=6585', 'author.php?id=2185', 'author.php?id=2188', 'author.php?id=2910', 'author.php?id=3023', 'author.php?id=2189', 'author.php?id=2146', 'author.php?id=2661', 'author.php?id=2141', 'author.php?id=1', 'author.php?id=7680', 'author.php?id=2662', 'author.php?id=3553', 'author.php?id=6588', 'author.php?id=2155', 'author.php?id=2663', 'author.php?id=8272', 'author.php?id=2199', 'author.php?id=5', 'author.php?id=2861', 'author.php?id=3766', 'author.php?id=2200', 'author.php?id=4946', 'author.php?id=2201', 'author.php?id=6', 'author.php?id=3655', 'author.php?id=2544', 'author.php?id=2338', 'author.php?id=7', 'author.php?id=1901', 'author.php?id=8237', 'author.php?id=1902', 'author.php?id=2202', 'author.php?id=6603', 'author.php?id=8', 'author.php?id=3455', 'author.php?id=2807', 'author.php?id=3536', 'author.php?id=1735', 'author.php?id=2980', 'author.php?id=7916', 'author.php?id=6601', 'author.php?id=8200', 'author.php?id=1658', 'author.php?id=1905', 'author.php?id=8262', 'author.php?id=3545', 'author.php?id=2204', 'author.php?id=2205', 'author.php?id=3259', 'author.php?id=2837', 'author.php?id=3791', 'author.php?id=1671', 'author.php?id=2206', 'author.php?id=11', 'author.php?id=1807', 'author.php?id=7975', 'author.php?id=7500', 'author.php?id=7869', 'author.php?id=2761', 'author.php?id=2203', 'author.php?id=14', 'author.php?id=3712', 'author.php?id=3163', 'author.php?id=3065', 'author.php?id=15', 'author.php?id=2913', 'author.php?id=2614', 'author.php?id=1908', 'author.php?id=2838', 'author.php?id=2915', 'author.php?id=2207', 'author.php?id=3076', 'author.php?id=3807', 'author.php?id=2757', 'author.php?id=2447', 'author.php?id=3811', 'author.php?id=1913', 'author.php?id=2835', 'author.php?id=3884', 'author.php?id=2551', 'author.php?id=3818', 'author.php?id=2183', 'author.php?id=2184', 'author.php?id=3507', 'author.php?id=3662', 'author.php?id=4310', 'author.php?id=8199', 'author.php?id=3820', 'author.php?id=2667', 'author.php?id=3772', 'http://top.bardy.org/', 'http://www.elcom-tele.com', 'http://www.pr-cy.ru/analysis/bards.ru', 'http://bards.ru']\n"
     ]
    }
   ],
   "source": [
    "authors = parsed.xpath('//a/@href')\n",
    "print (authors)"
   ]
  },
  {
   "cell_type": "code",
   "execution_count": null,
   "metadata": {},
   "outputs": [],
   "source": []
  }
 ],
 "metadata": {
  "kernelspec": {
   "display_name": "Python 3",
   "language": "python",
   "name": "python3"
  },
  "language_info": {
   "codemirror_mode": {
    "name": "ipython",
    "version": 3
   },
   "file_extension": ".py",
   "mimetype": "text/x-python",
   "name": "python",
   "nbconvert_exporter": "python",
   "pygments_lexer": "ipython3",
   "version": "3.6.8"
  }
 },
 "nbformat": 4,
 "nbformat_minor": 2
}

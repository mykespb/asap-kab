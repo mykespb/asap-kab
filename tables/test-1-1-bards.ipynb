{
 "cells": [
  {
   "cell_type": "markdown",
   "metadata": {},
   "source": [
    "__Testing Python3 and Bards__"
   ]
  },
  {
   "cell_type": "code",
   "execution_count": 327,
   "metadata": {},
   "outputs": [],
   "source": [
    "import numpy as np\n",
    "import pandas as pd\n",
    "import matplotlib as mpl\n",
    "import math\n",
    "import uuid"
   ]
  },
  {
   "cell_type": "code",
   "execution_count": 8,
   "metadata": {},
   "outputs": [
    {
     "data": {
      "text/plain": [
       "'C:\\\\Users\\\\mikkol\\\\tmp\\\\MAS'"
      ]
     },
     "execution_count": 8,
     "metadata": {},
     "output_type": "execute_result"
    }
   ],
   "source": [
    "pwd()"
   ]
  },
  {
   "cell_type": "code",
   "execution_count": 285,
   "metadata": {},
   "outputs": [],
   "source": [
    "f1 = pd.read_csv(\"tab1.tab\", encoding=\"cp1251\", sep=\"\\t\")\n",
    "f2 = pd.read_csv(\"tab2.tab\", encoding=\"cp1251\", sep=\"\\t\")"
   ]
  },
  {
   "cell_type": "code",
   "execution_count": 286,
   "metadata": {},
   "outputs": [
    {
     "data": {
      "text/html": [
       "<div>\n",
       "<style scoped>\n",
       "    .dataframe tbody tr th:only-of-type {\n",
       "        vertical-align: middle;\n",
       "    }\n",
       "\n",
       "    .dataframe tbody tr th {\n",
       "        vertical-align: top;\n",
       "    }\n",
       "\n",
       "    .dataframe thead th {\n",
       "        text-align: right;\n",
       "    }\n",
       "</style>\n",
       "<table border=\"1\" class=\"dataframe\">\n",
       "  <thead>\n",
       "    <tr style=\"text-align: right;\">\n",
       "      <th></th>\n",
       "      <th>n</th>\n",
       "      <th>date</th>\n",
       "      <th>music</th>\n",
       "      <th>verses</th>\n",
       "      <th>singer</th>\n",
       "      <th>song</th>\n",
       "      <th>line1</th>\n",
       "      <th>quality</th>\n",
       "    </tr>\n",
       "  </thead>\n",
       "  <tbody>\n",
       "    <tr>\n",
       "      <th>0</th>\n",
       "      <td>1</td>\n",
       "      <td>1968-06-01</td>\n",
       "      <td>Визбор Юрий</td>\n",
       "      <td>Визбор Юрий</td>\n",
       "      <td>Визбор Юрий</td>\n",
       "      <td>Сон под пятницу</td>\n",
       "      <td>Попробуем заснуть...</td>\n",
       "      <td>9</td>\n",
       "    </tr>\n",
       "    <tr>\n",
       "      <th>1</th>\n",
       "      <td>2</td>\n",
       "      <td>1970-05-06</td>\n",
       "      <td>Якушева Ада</td>\n",
       "      <td>Якушева Ада</td>\n",
       "      <td>Якушева Ада</td>\n",
       "      <td>Мой друг</td>\n",
       "      <td>Мой друг рисует горы</td>\n",
       "      <td>3</td>\n",
       "    </tr>\n",
       "    <tr>\n",
       "      <th>2</th>\n",
       "      <td>3</td>\n",
       "      <td>1988-08-08</td>\n",
       "      <td>Дашкевич В.</td>\n",
       "      <td>Ким Ю.</td>\n",
       "      <td>NaN</td>\n",
       "      <td>Что будет, то будет</td>\n",
       "      <td>Как следует смажь</td>\n",
       "      <td>6</td>\n",
       "    </tr>\n",
       "  </tbody>\n",
       "</table>\n",
       "</div>"
      ],
      "text/plain": [
       "   n        date        music       verses       singer                 song  \\\n",
       "0  1  1968-06-01  Визбор Юрий  Визбор Юрий  Визбор Юрий      Сон под пятницу   \n",
       "1  2  1970-05-06  Якушева Ада  Якушева Ада  Якушева Ада             Мой друг   \n",
       "2  3  1988-08-08  Дашкевич В.       Ким Ю.          NaN  Что будет, то будет   \n",
       "\n",
       "                  line1  quality  \n",
       "0  Попробуем заснуть...        9  \n",
       "1  Мой друг рисует горы        3  \n",
       "2     Как следует смажь        6  "
      ]
     },
     "execution_count": 286,
     "metadata": {},
     "output_type": "execute_result"
    }
   ],
   "source": [
    "f1"
   ]
  },
  {
   "cell_type": "code",
   "execution_count": 287,
   "metadata": {},
   "outputs": [
    {
     "data": {
      "text/html": [
       "<div>\n",
       "<style scoped>\n",
       "    .dataframe tbody tr th:only-of-type {\n",
       "        vertical-align: middle;\n",
       "    }\n",
       "\n",
       "    .dataframe tbody tr th {\n",
       "        vertical-align: top;\n",
       "    }\n",
       "\n",
       "    .dataframe thead th {\n",
       "        text-align: right;\n",
       "    }\n",
       "</style>\n",
       "<table border=\"1\" class=\"dataframe\">\n",
       "  <thead>\n",
       "    <tr style=\"text-align: right;\">\n",
       "      <th></th>\n",
       "      <th>singer</th>\n",
       "      <th>movie</th>\n",
       "      <th>line1</th>\n",
       "      <th>year</th>\n",
       "      <th>verses</th>\n",
       "    </tr>\n",
       "  </thead>\n",
       "  <tbody>\n",
       "    <tr>\n",
       "      <th>0</th>\n",
       "      <td>Боярский М., Миронов А.</td>\n",
       "      <td>Человек с бульваря капуцинов</td>\n",
       "      <td>Как следует смажь</td>\n",
       "      <td>1980</td>\n",
       "      <td>Ким Ю.</td>\n",
       "    </tr>\n",
       "    <tr>\n",
       "      <th>1</th>\n",
       "      <td>Камбурова Е.</td>\n",
       "      <td>Нас венчали не в церкви</td>\n",
       "      <td>Ещё он не сшит...</td>\n",
       "      <td>1988</td>\n",
       "      <td>Окуджава Б.</td>\n",
       "    </tr>\n",
       "  </tbody>\n",
       "</table>\n",
       "</div>"
      ],
      "text/plain": [
       "                    singer                         movie              line1  \\\n",
       "0  Боярский М., Миронов А.  Человек с бульваря капуцинов  Как следует смажь   \n",
       "1             Камбурова Е.       Нас венчали не в церкви  Ещё он не сшит...   \n",
       "\n",
       "   year       verses  \n",
       "0  1980       Ким Ю.  \n",
       "1  1988  Окуджава Б.  "
      ]
     },
     "execution_count": 287,
     "metadata": {},
     "output_type": "execute_result"
    }
   ],
   "source": [
    "f2"
   ]
  },
  {
   "cell_type": "code",
   "execution_count": 330,
   "metadata": {},
   "outputs": [],
   "source": [
    "fapp = f1.append(f2, sort=False)"
   ]
  },
  {
   "cell_type": "code",
   "execution_count": 367,
   "metadata": {},
   "outputs": [
    {
     "data": {
      "text/html": [
       "<div>\n",
       "<style scoped>\n",
       "    .dataframe tbody tr th:only-of-type {\n",
       "        vertical-align: middle;\n",
       "    }\n",
       "\n",
       "    .dataframe tbody tr th {\n",
       "        vertical-align: top;\n",
       "    }\n",
       "\n",
       "    .dataframe thead th {\n",
       "        text-align: right;\n",
       "    }\n",
       "</style>\n",
       "<table border=\"1\" class=\"dataframe\">\n",
       "  <thead>\n",
       "    <tr style=\"text-align: right;\">\n",
       "      <th></th>\n",
       "      <th>n</th>\n",
       "      <th>date</th>\n",
       "      <th>music</th>\n",
       "      <th>verses</th>\n",
       "      <th>singer</th>\n",
       "      <th>song</th>\n",
       "      <th>line1</th>\n",
       "      <th>quality</th>\n",
       "      <th>movie</th>\n",
       "      <th>year</th>\n",
       "    </tr>\n",
       "    <tr>\n",
       "      <th>n</th>\n",
       "      <th></th>\n",
       "      <th></th>\n",
       "      <th></th>\n",
       "      <th></th>\n",
       "      <th></th>\n",
       "      <th></th>\n",
       "      <th></th>\n",
       "      <th></th>\n",
       "      <th></th>\n",
       "      <th></th>\n",
       "    </tr>\n",
       "  </thead>\n",
       "  <tbody>\n",
       "    <tr>\n",
       "      <th>0</th>\n",
       "      <td>0</td>\n",
       "      <td>1968-06-01</td>\n",
       "      <td>Визбор Юрий</td>\n",
       "      <td>Визбор Юрий</td>\n",
       "      <td>Визбор Юрий</td>\n",
       "      <td>Сон под пятницу</td>\n",
       "      <td>Попробуем заснуть...</td>\n",
       "      <td>9.0</td>\n",
       "      <td>-</td>\n",
       "      <td>0</td>\n",
       "    </tr>\n",
       "    <tr>\n",
       "      <th>1</th>\n",
       "      <td>1</td>\n",
       "      <td>1970-05-06</td>\n",
       "      <td>Якушева Ада</td>\n",
       "      <td>Якушева Ада</td>\n",
       "      <td>Якушева Ада</td>\n",
       "      <td>Мой друг</td>\n",
       "      <td>Мой друг рисует горы</td>\n",
       "      <td>3.0</td>\n",
       "      <td>-</td>\n",
       "      <td>0</td>\n",
       "    </tr>\n",
       "    <tr>\n",
       "      <th>2</th>\n",
       "      <td>2</td>\n",
       "      <td>1988-08-08</td>\n",
       "      <td>Дашкевич В.</td>\n",
       "      <td>Ким Ю.</td>\n",
       "      <td>-</td>\n",
       "      <td>Что будет, то будет</td>\n",
       "      <td>Как следует смажь</td>\n",
       "      <td>6.0</td>\n",
       "      <td>-</td>\n",
       "      <td>0</td>\n",
       "    </tr>\n",
       "    <tr>\n",
       "      <th>3</th>\n",
       "      <td>3</td>\n",
       "      <td>NaN</td>\n",
       "      <td>-</td>\n",
       "      <td>Ким Ю.</td>\n",
       "      <td>Боярский М., Миронов А.</td>\n",
       "      <td>-</td>\n",
       "      <td>Как следует смажь</td>\n",
       "      <td>NaN</td>\n",
       "      <td>Человек с бульваря капуцинов</td>\n",
       "      <td>1980</td>\n",
       "    </tr>\n",
       "    <tr>\n",
       "      <th>4</th>\n",
       "      <td>4</td>\n",
       "      <td>NaN</td>\n",
       "      <td>-</td>\n",
       "      <td>Окуджава Б.</td>\n",
       "      <td>Камбурова Е.</td>\n",
       "      <td>-</td>\n",
       "      <td>Ещё он не сшит...</td>\n",
       "      <td>NaN</td>\n",
       "      <td>Нас венчали не в церкви</td>\n",
       "      <td>1988</td>\n",
       "    </tr>\n",
       "  </tbody>\n",
       "</table>\n",
       "</div>"
      ],
      "text/plain": [
       "   n        date        music       verses                   singer  \\\n",
       "n                                                                     \n",
       "0  0  1968-06-01  Визбор Юрий  Визбор Юрий              Визбор Юрий   \n",
       "1  1  1970-05-06  Якушева Ада  Якушева Ада              Якушева Ада   \n",
       "2  2  1988-08-08  Дашкевич В.       Ким Ю.                        -   \n",
       "3  3         NaN            -       Ким Ю.  Боярский М., Миронов А.   \n",
       "4  4         NaN            -  Окуджава Б.             Камбурова Е.   \n",
       "\n",
       "                  song                 line1  quality  \\\n",
       "n                                                       \n",
       "0      Сон под пятницу  Попробуем заснуть...      9.0   \n",
       "1             Мой друг  Мой друг рисует горы      3.0   \n",
       "2  Что будет, то будет     Как следует смажь      6.0   \n",
       "3                    -     Как следует смажь      NaN   \n",
       "4                    -     Ещё он не сшит...      NaN   \n",
       "\n",
       "                          movie  year  \n",
       "n                                      \n",
       "0                             -     0  \n",
       "1                             -     0  \n",
       "2                             -     0  \n",
       "3  Человек с бульваря капуцинов  1980  \n",
       "4       Нас венчали не в церкви  1988  "
      ]
     },
     "execution_count": 367,
     "metadata": {},
     "output_type": "execute_result"
    }
   ],
   "source": [
    "fapp"
   ]
  },
  {
   "cell_type": "code",
   "execution_count": 227,
   "metadata": {},
   "outputs": [],
   "source": [
    "fapp['year'] = fapp['year'].replace(np.nan, 0)"
   ]
  },
  {
   "cell_type": "code",
   "execution_count": 203,
   "metadata": {},
   "outputs": [],
   "source": [
    "fapp['year'] = fapp['year'].replace(0, np.nan)"
   ]
  },
  {
   "cell_type": "code",
   "execution_count": 210,
   "metadata": {},
   "outputs": [],
   "source": [
    "fapp['year'] = fapp['year'].apply(lambda x: int(x))"
   ]
  },
  {
   "cell_type": "code",
   "execution_count": 228,
   "metadata": {},
   "outputs": [
    {
     "data": {
      "text/plain": [
       "0       0.0\n",
       "1       0.0\n",
       "2       0.0\n",
       "0    1980.0\n",
       "1    1988.0\n",
       "Name: year, dtype: float64"
      ]
     },
     "execution_count": 228,
     "metadata": {},
     "output_type": "execute_result"
    }
   ],
   "source": [
    "fapp['year'].fillna(0)"
   ]
  },
  {
   "cell_type": "code",
   "execution_count": 229,
   "metadata": {},
   "outputs": [],
   "source": [
    "fapp['year'] = fapp['year'].astype(int)"
   ]
  },
  {
   "cell_type": "code",
   "execution_count": 256,
   "metadata": {},
   "outputs": [],
   "source": [
    "#fapp['n'] = fapp['n'].replace(np.nan, 0, inplace = True)\n",
    "#fapp['n'] = fapp['n'].astype(int)"
   ]
  },
  {
   "cell_type": "code",
   "execution_count": 332,
   "metadata": {},
   "outputs": [],
   "source": [
    "fapp['movie'] = fapp['movie'].replace(np.nan, '-')\n",
    "fapp['singer'] = fapp['singer'].replace(np.nan, '-')\n",
    "fapp['verses'] = fapp['verses'].replace(np.nan, '-')\n",
    "fapp['song'] = fapp['song'].replace(np.nan, '-')\n",
    "fapp['line1'] = fapp['line1'].replace(np.nan, '-')\n",
    "fapp['music'] = fapp['music'].replace(np.nan, '-')"
   ]
  },
  {
   "cell_type": "code",
   "execution_count": 333,
   "metadata": {},
   "outputs": [],
   "source": [
    "fapp['year'] = fapp['year'].apply(lambda x: int(x) if not pd.isna(x) else 0)"
   ]
  },
  {
   "cell_type": "code",
   "execution_count": 334,
   "metadata": {},
   "outputs": [],
   "source": [
    "fapp['n'] = fapp['n'].apply(lambda x: int(x) if not pd.isna(x) else 0)"
   ]
  },
  {
   "cell_type": "code",
   "execution_count": 304,
   "metadata": {},
   "outputs": [
    {
     "data": {
      "text/html": [
       "<div>\n",
       "<style scoped>\n",
       "    .dataframe tbody tr th:only-of-type {\n",
       "        vertical-align: middle;\n",
       "    }\n",
       "\n",
       "    .dataframe tbody tr th {\n",
       "        vertical-align: top;\n",
       "    }\n",
       "\n",
       "    .dataframe thead th {\n",
       "        text-align: right;\n",
       "    }\n",
       "</style>\n",
       "<table border=\"1\" class=\"dataframe\">\n",
       "  <thead>\n",
       "    <tr style=\"text-align: right;\">\n",
       "      <th></th>\n",
       "      <th>n</th>\n",
       "      <th>date</th>\n",
       "      <th>music</th>\n",
       "      <th>verses</th>\n",
       "      <th>singer</th>\n",
       "      <th>song</th>\n",
       "      <th>line1</th>\n",
       "      <th>quality</th>\n",
       "      <th>movie</th>\n",
       "      <th>year</th>\n",
       "    </tr>\n",
       "  </thead>\n",
       "  <tbody>\n",
       "    <tr>\n",
       "      <th>0</th>\n",
       "      <td>0</td>\n",
       "      <td>NaN</td>\n",
       "      <td>-</td>\n",
       "      <td>Ким Ю.</td>\n",
       "      <td>Боярский М., Миронов А.</td>\n",
       "      <td>-</td>\n",
       "      <td>Как следует смажь</td>\n",
       "      <td>NaN</td>\n",
       "      <td>Человек с бульваря капуцинов</td>\n",
       "      <td>1980</td>\n",
       "    </tr>\n",
       "  </tbody>\n",
       "</table>\n",
       "</div>"
      ],
      "text/plain": [
       "   n date music  verses                   singer song              line1  \\\n",
       "0  0  NaN     -  Ким Ю.  Боярский М., Миронов А.    -  Как следует смажь   \n",
       "\n",
       "   quality                         movie  year  \n",
       "0      NaN  Человек с бульваря капуцинов  1980  "
      ]
     },
     "execution_count": 304,
     "metadata": {},
     "output_type": "execute_result"
    }
   ],
   "source": [
    "fapp[year == 1980]"
   ]
  },
  {
   "cell_type": "code",
   "execution_count": 322,
   "metadata": {},
   "outputs": [
    {
     "data": {
      "text/plain": [
       "n                                0\n",
       "date                           NaN\n",
       "music                            -\n",
       "verses                 Окуджава Б.\n",
       "singer                Камбурова Е.\n",
       "song                             -\n",
       "line1            Ещё он не сшит...\n",
       "quality                        NaN\n",
       "movie      Нас венчали не в церкви\n",
       "year                          1982\n",
       "Name: 1, dtype: object"
      ]
     },
     "execution_count": 322,
     "metadata": {},
     "output_type": "execute_result"
    }
   ],
   "source": [
    "fax = fapp.iloc[4]\n",
    "fax"
   ]
  },
  {
   "cell_type": "code",
   "execution_count": 316,
   "metadata": {},
   "outputs": [],
   "source": [
    "fapp.loc[ fapp['year']==1980, ['year']] = 1987\n",
    "fapp.loc[ fapp['year']==1988, ['year']] = 1982"
   ]
  },
  {
   "cell_type": "code",
   "execution_count": 363,
   "metadata": {},
   "outputs": [],
   "source": [
    "fapp.to_csv('fapp.tab', sep=\"\\t\", encoding=\"utf8\")"
   ]
  },
  {
   "cell_type": "code",
   "execution_count": 369,
   "metadata": {},
   "outputs": [
    {
     "data": {
      "text/plain": [
       "Int64Index([0, 1, 2, 3, 4], dtype='int64', name='n')"
      ]
     },
     "execution_count": 369,
     "metadata": {},
     "output_type": "execute_result"
    }
   ],
   "source": [
    "fapp.index"
   ]
  },
  {
   "cell_type": "code",
   "execution_count": 328,
   "metadata": {},
   "outputs": [],
   "source": [
    "fapp['uuid'] = uuid.uuid4()"
   ]
  },
  {
   "cell_type": "code",
   "execution_count": 361,
   "metadata": {},
   "outputs": [],
   "source": [
    "fapp['n'] = range(len(fapp))"
   ]
  },
  {
   "cell_type": "code",
   "execution_count": 364,
   "metadata": {},
   "outputs": [],
   "source": [
    "fapp.index = fapp['n']"
   ]
  },
  {
   "cell_type": "code",
   "execution_count": 368,
   "metadata": {},
   "outputs": [
    {
     "data": {
      "text/plain": [
       "n\n",
       "0    0\n",
       "1    1\n",
       "2    2\n",
       "3    3\n",
       "4    4\n",
       "Name: n, dtype: int32"
      ]
     },
     "execution_count": 368,
     "metadata": {},
     "output_type": "execute_result"
    }
   ],
   "source": [
    "fapp['n']"
   ]
  },
  {
   "cell_type": "code",
   "execution_count": null,
   "metadata": {},
   "outputs": [],
   "source": []
  }
 ],
 "metadata": {
  "kernelspec": {
   "display_name": "Python 3",
   "language": "python",
   "name": "python3"
  },
  "language_info": {
   "codemirror_mode": {
    "name": "ipython",
    "version": 3
   },
   "file_extension": ".py",
   "mimetype": "text/x-python",
   "name": "python",
   "nbconvert_exporter": "python",
   "pygments_lexer": "ipython3",
   "version": "3.7.3"
  }
 },
 "nbformat": 4,
 "nbformat_minor": 2
}
